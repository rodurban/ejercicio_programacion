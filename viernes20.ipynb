{
 "cells": [
  {
   "cell_type": "code",
   "execution_count": 1,
   "metadata": {},
   "outputs": [
    {
     "name": "stdout",
     "output_type": "stream",
     "text": [
      "00080 Barcelona\n",
      "28002 Madrid\n",
      "28040 Madrid\n",
      "\n",
      "00080 Barcelona\n",
      "28040 Madrid\n",
      "28002 Madrid\n"
     ]
    }
   ],
   "source": [
    "diccionario_ciudades={\"28040\":\"Madrid\",\"00080\":\"Barcelona\",\"28002\":\"Madrid\"}\n",
    "for k in sorted(diccionario_ciudades):\n",
    "    print(k,diccionario_ciudades[k])\n",
    "print()\n",
    "\n",
    "for w in sorted(diccionario_ciudades, key=diccionario_ciudades.get):\n",
    "    print(w,diccionario_ciudades[w])\n",
    "    "
   ]
  },
  {
   "cell_type": "code",
   "execution_count": 2,
   "metadata": {},
   "outputs": [
    {
     "name": "stdout",
     "output_type": "stream",
     "text": [
      "[('Madrid', '28040'), ('Barcelona', '00080'), ('Madrid', '28002')]\n"
     ]
    }
   ],
   "source": [
    "lista_ciudades=[]\n",
    "for e in diccionario_ciudades:\n",
    "    lista_ciudades.append((diccionario_ciudades.get(e),e))\n",
    "print(lista_ciudades)"
   ]
  },
  {
   "cell_type": "code",
   "execution_count": 3,
   "metadata": {},
   "outputs": [
    {
     "name": "stdout",
     "output_type": "stream",
     "text": [
      "00080 Barcelona\n",
      "28002 Madrid\n",
      "28040 Madrid\n"
     ]
    }
   ],
   "source": [
    "for ciudad in sorted(lista_ciudades):\n",
    "    print(ciudad[1],ciudad[0])"
   ]
  },
  {
   "cell_type": "code",
   "execution_count": 4,
   "metadata": {},
   "outputs": [
    {
     "name": "stdout",
     "output_type": "stream",
     "text": [
      "{'Madrid': '28002', 'Barcelona': '00080'}\n"
     ]
    }
   ],
   "source": [
    "codigos_postales=diccionario_ciudades.keys()\n",
    "#print(codigos_postales)\n",
    "ciudades=diccionario_ciudades.values()\n",
    "#print(ciudades)\n",
    "\n",
    "nuevo_diccioanrio_ciudades=dict(zip(ciudades,codigos_postales))\n",
    "print(nuevo_diccioanrio_ciudades)"
   ]
  },
  {
   "cell_type": "markdown",
   "metadata": {},
   "source": [
    "Fichero"
   ]
  },
  {
   "cell_type": "code",
   "execution_count": 5,
   "metadata": {},
   "outputs": [
    {
     "name": "stdout",
     "output_type": "stream",
     "text": [
      "[1, 4, 9, 16, 25, 36, 49, 64, 81, 100]\n"
     ]
    }
   ],
   "source": [
    "cuadrados=[i**2 for i in range(1,11)]\n",
    "print(cuadrados)"
   ]
  },
  {
   "cell_type": "code",
   "execution_count": 6,
   "metadata": {},
   "outputs": [],
   "source": [
    "fichero=open(\"numeros.txt\",\"w\")\n",
    "for n in cuadrados:\n",
    "    fichero.write(str(n)+\"\\n\")\n",
    "fichero.close()"
   ]
  },
  {
   "cell_type": "code",
   "execution_count": 7,
   "metadata": {},
   "outputs": [
    {
     "name": "stdout",
     "output_type": "stream",
     "text": [
      "1\n",
      "4\n",
      "9\n",
      "16\n",
      "25\n",
      "36\n",
      "49\n",
      "64\n",
      "81\n",
      "100\n",
      "\n"
     ]
    }
   ],
   "source": [
    "fichero=open(\"numeros.txt\",\"r\")\n",
    "\n",
    "print(fichero.read())\n",
    "fichero.close()"
   ]
  },
  {
   "cell_type": "code",
   "execution_count": 8,
   "metadata": {},
   "outputs": [
    {
     "name": "stdout",
     "output_type": "stream",
     "text": [
      "1 4 9 16 25 36 49 64 81 100 \n"
     ]
    }
   ],
   "source": [
    "fichero=open(\"numeros.txt\",\"r\")\n",
    "\n",
    "linea=fichero.readline().strip()\n",
    "while linea:\n",
    "    print(linea,end=\" \")\n",
    "    linea=fichero.readline().strip()\n",
    "    \n",
    "print()\n",
    "fichero.close()"
   ]
  },
  {
   "cell_type": "code",
   "execution_count": null,
   "metadata": {},
   "outputs": [],
   "source": [
    "path=input(\"Dame la ruta del fichero\")\n",
    "try:\n",
    "    fichero=open(path,\"w\")\n",
    "    fichero.write(\"Intento de escritura en un fichero\")\n",
    "    fichero.close()\n",
    "except IOError:\n",
    "    print(\"Error al intentar escribir en el fichero\")\n",
    "else:\n",
    "    print(\"todo ha ido bien\")\n",
    "finally:\n",
    "    fichero.close()"
   ]
  },
  {
   "cell_type": "code",
   "execution_count": null,
   "metadata": {},
   "outputs": [],
   "source": [
    "#FUNCIONES"
   ]
  },
  {
   "cell_type": "code",
   "execution_count": null,
   "metadata": {},
   "outputs": [],
   "source": [
    "def hola():\n",
    "    print(\"hola\")\n",
    "def saluda(nombre):\n",
    "#función que imprime un saludos por pantalla\n",
    "# nombre es un string con el nombre de la persona a la que saludamos\n",
    "    print(\"Hola,\",nombre)\n",
    "hola()\n",
    "saluda (\"Guillermo\")\n",
    "hola()\n",
    "saluda(\"Jorge\")"
   ]
  },
  {
   "cell_type": "code",
   "execution_count": null,
   "metadata": {},
   "outputs": [],
   "source": [
    "def max (n1,n2):\n",
    "    #max calcula el máximo de los dos números que se le pasan como parámetros\n",
    "    if n1>n2:\n",
    "        return n1\n",
    "    else:\n",
    "        return n2\n",
    "\n",
    "num1=eval(input(\"dime un numero: \"))\n",
    "num2=eval(input(\"dime otro numero: \"))\n",
    "print(max(num1, num2))\n",
    "\n",
    "num3=eval(input(\"dime otro numero más: \"))\n",
    "print(max(max(num1,num2),num3))"
   ]
  },
  {
   "cell_type": "code",
   "execution_count": null,
   "metadata": {},
   "outputs": [],
   "source": [
    "def max3 (n1,n2,n3):\n",
    "    return max(max(n1,n2),n3)\n",
    "print(max3(num1,num2,num3))"
   ]
  },
  {
   "cell_type": "code",
   "execution_count": 1,
   "metadata": {},
   "outputs": [
    {
     "name": "stdout",
     "output_type": "stream",
     "text": [
      "1 2 4 8 16 32 64 128 256 512 1024 2048 4096 8192 16384 32768 65536 131072 262144 524288 1048576 2097152 4194304 8388608 16777216 33554432 67108864 134217728 268435456 536870912 1073741824 2147483648 4294967296 8589934592 17179869184 34359738368 68719476736 137438953472 274877906944 549755813888 1099511627776 2199023255552 4398046511104 8796093022208 17592186044416 35184372088832 70368744177664 140737488355328 281474976710656 562949953421312 1125899906842624 \n"
     ]
    }
   ],
   "source": [
    "def pot2(n):\n",
    "    for i in range(n+1):\n",
    "        print(2**i,end=\" \")\n",
    "    print()\n",
    "pot2(50)"
   ]
  },
  {
   "cell_type": "code",
   "execution_count": 5,
   "metadata": {},
   "outputs": [
    {
     "name": "stdout",
     "output_type": "stream",
     "text": [
      "3628800\n"
     ]
    }
   ],
   "source": [
    "def factorial(n):\n",
    "    if n<2:\n",
    "        return 1\n",
    "    return n*factorial(n-1)\n",
    "factorial(10)\n",
    "print(factorial(10))"
   ]
  },
  {
   "cell_type": "code",
   "execution_count": 13,
   "metadata": {},
   "outputs": [
    {
     "name": "stdout",
     "output_type": "stream",
     "text": [
      "[1, 2, 3, 4]\n",
      "[1, 2, 3, 4]\n",
      "[0, 0, 0]\n",
      "[1, 2, 3, 4]\n"
     ]
    }
   ],
   "source": [
    "def cambia(li):\n",
    "    li.append(4)\n",
    "    print(li)\n",
    "\n",
    "def nocambia(li):\n",
    "    li=[0,0,0]\n",
    "    print(li)\n",
    "\n",
    "lista=[1,2,3]\n",
    "cambia(lista)\n",
    "print(lista)\n",
    "\n",
    "nocambia(lista)\n",
    "print(lista)"
   ]
  },
  {
   "cell_type": "code",
   "execution_count": 15,
   "metadata": {},
   "outputs": [
    {
     "name": "stdout",
     "output_type": "stream",
     "text": [
      "4 7\n",
      "7 4\n",
      "4 7\n"
     ]
    }
   ],
   "source": [
    "def intercambia(n1,n2):\n",
    "    print(n1,n2)\n",
    "    n1,n2=n2,n1\n",
    "    print(n1,n2)\n",
    "    \n",
    "num1=4\n",
    "num2=7\n",
    "intercambia(num1,num2)\n",
    "print(num1,num2)"
   ]
  },
  {
   "cell_type": "code",
   "execution_count": 16,
   "metadata": {},
   "outputs": [
    {
     "name": "stdout",
     "output_type": "stream",
     "text": [
      "7 4\n"
     ]
    }
   ],
   "source": [
    "def intercambia2 (n1,n2):\n",
    "    return n2,n1\n",
    "\n",
    "n1=4\n",
    "n2=7\n",
    "\n",
    "n1,n2=intercambia2(n1,n2)\n",
    "print(n1,n2)"
   ]
  },
  {
   "cell_type": "code",
   "execution_count": null,
   "metadata": {},
   "outputs": [],
   "source": []
  }
 ],
 "metadata": {
  "kernelspec": {
   "display_name": "Python 3",
   "language": "python",
   "name": "python3"
  },
  "language_info": {
   "codemirror_mode": {
    "name": "ipython",
    "version": 3
   },
   "file_extension": ".py",
   "mimetype": "text/x-python",
   "name": "python",
   "nbconvert_exporter": "python",
   "pygments_lexer": "ipython3",
   "version": "3.8.3"
  }
 },
 "nbformat": 4,
 "nbformat_minor": 4
}
