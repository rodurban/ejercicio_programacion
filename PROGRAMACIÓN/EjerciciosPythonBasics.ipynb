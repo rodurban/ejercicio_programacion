{
 "cells": [
  {
   "cell_type": "markdown",
   "metadata": {},
   "source": [
    "**Nombre:**Rodrigo\n",
    "\n",
    "**Apellidos:**Urbano Ganora\n",
    "\n",
    "**DNI/NIE:**Y8356079-D"
   ]
  },
  {
   "cell_type": "markdown",
   "metadata": {},
   "source": [
    "_**Nota:** para hacer todos estos ejercicios puedes consultar los apuntes de la asignatura y todas las páginas de ayuda sugeridas en ellos_"
   ]
  },
  {
   "cell_type": "markdown",
   "metadata": {},
   "source": [
    "**1. Escribe un programa que pida el alto y el ancho (en metros) de una parcela rectangular y calcule su perímetro y su área. Si esta última es mayor de una hectárea, deberá expresarse la medida en esta unidad en lugar de en $m^2$**"
   ]
  },
  {
   "cell_type": "code",
   "execution_count": 2,
   "metadata": {},
   "outputs": [
    {
     "name": "stdout",
     "output_type": "stream",
     "text": [
      "dime el alto de tu parcela 25\n",
      "dame el ancho de la parcela 35\n",
      "el perimetro de tu parcela es  120\n",
      "el área de tu parcela es  875\n"
     ]
    }
   ],
   "source": [
    "alto=eval(input(\"dime el alto de tu parcela \"))\n",
    "ancho=eval(input(\"dame el ancho de la parcela \"))\n",
    "area=(alto*ancho)\n",
    "print(\"el perimetro de tu parcela es \",(2*alto)+(2*ancho))\n",
    "print((\"el área de tu parcela es \"),(alto*ancho))\n",
    "if area>10000:\n",
    "    print(area,\" hectáreas\")"
   ]
  },
  {
   "cell_type": "markdown",
   "metadata": {},
   "source": [
    "**2. Escribe un programa que lea los coeficientes y calule la solución de una ecuación de segundo grado de la forma $ax^2+bx+c=0$**"
   ]
  },
  {
   "cell_type": "code",
   "execution_count": 3,
   "metadata": {},
   "outputs": [
    {
     "name": "stdout",
     "output_type": "stream",
     "text": [
      "dime el valor de la primera variable 2\n",
      "dime el valor de la segunda variable 1\n",
      "dime el valor de la tercera variable 2\n",
      "el ejercicio no tiene solución\n"
     ]
    }
   ],
   "source": [
    "a=eval(input(\"dime el valor de la primera variable \"))\n",
    "b=eval(input(\"dime el valor de la segunda variable \"))\n",
    "c=eval(input(\"dime el valor de la tercera variable \"))\n",
    "import math\n",
    "d=b**2\n",
    "e=b**2-(4*a*c)\n",
    "if (e)<0:\n",
    "    print(\"el ejercicio no tiene solución\")\n",
    "else:\n",
    "    print(\"entonces x vale\",((-b+math.sqrt(e))/2*a), \"o\",((-b-math.sqrt(e))/2*a))\n"
   ]
  },
  {
   "cell_type": "markdown",
   "metadata": {},
   "source": [
    "**3. Escribe un programa que lea una cadena de texto y cuente cuántos caracteres no son letras**"
   ]
  },
  {
   "cell_type": "code",
   "execution_count": 7,
   "metadata": {},
   "outputs": [
    {
     "name": "stdout",
     "output_type": "stream",
     "text": [
      "escribe un texto, a ver cuantos caracteres no son letrashola chicos cómo están\n",
      "el numero de caracteres que no son letras son:  3\n"
     ]
    }
   ],
   "source": [
    "def escritura(string):\n",
    "    other=0\n",
    "    for c in string:\n",
    "        if c.isalpha():\n",
    "            pass\n",
    "        else:\n",
    "            other+=1\n",
    "    print(\"el numero de caracteres que no son letras son: \",other)\n",
    "\n",
    "texto=input(\"escribe un texto, a ver cuantos caracteres no son letras\")\n",
    "escritura(texto)"
   ]
  },
  {
   "cell_type": "markdown",
   "metadata": {},
   "source": [
    "**4. Escribe un programa que lea una cadena de texto y le quite todos los caracteres que no sean letras**"
   ]
  },
  {
   "cell_type": "code",
   "execution_count": 42,
   "metadata": {},
   "outputs": [
    {
     "name": "stdout",
     "output_type": "stream",
     "text": [
      "Dime un texto: hola chicos del 4to D\n",
      "holachicosdeltoD\n"
     ]
    }
   ],
   "source": [
    "frase=input(\"Dime un texto: \")\n",
    "\n",
    "filtro=filter(str.isalpha,frase)\n",
    "frase_filtrada=\"\".join(filtro)\n",
    "print(frase_filtrada)\n",
    "    "
   ]
  },
  {
   "cell_type": "markdown",
   "metadata": {},
   "source": [
    "**5. Escribe un programa que lea una cadena de texto y diga si es un palíndromo**"
   ]
  },
  {
   "cell_type": "code",
   "execution_count": 29,
   "metadata": {},
   "outputs": [
    {
     "name": "stdout",
     "output_type": "stream",
     "text": [
      "Dime una frase o palabra y veremos si es un palíndromo:anita lava la tina\n",
      "Es un palíndromo anitalavalatina = anitalavalatina\n"
     ]
    }
   ],
   "source": [
    "def pali(string):\n",
    "    pali=string.replace(\" \",\"\")\n",
    "    ilap=pali.lower()\n",
    "    if ilap==ilap[::-1]:\n",
    "        print(\"Es un palíndromo\",ilap,\"=\",ilap[::-1])\n",
    "    if ilap!=ilap[::-1]:\n",
    "        print(\"No es un palíndromo\")\n",
    "\n",
    "frase=input(\"Dime una frase o palabra y veremos si es un palíndromo:\")\n",
    "pali(frase)"
   ]
  },
  {
   "cell_type": "markdown",
   "metadata": {},
   "source": [
    "**6. Escribe un programa que lea una frase, la separe en palabras e imprima las palabras por orden de longitud. Las palabras de la misma longitud deberán imprimirse por orden lexicográfico**"
   ]
  },
  {
   "cell_type": "code",
   "execution_count": 43,
   "metadata": {},
   "outputs": [
    {
     "name": "stdout",
     "output_type": "stream",
     "text": [
      "Dime una frase:hola chiquillos que tal les está yendo con los ejercicios\n",
      "['con', 'les', 'los', 'que', 'tal', 'está', 'hola', 'yendo', 'chiquillos', 'ejercicios']\n"
     ]
    }
   ],
   "source": [
    "def separacion(string):\n",
    "    minusculas=string.lower()\n",
    "    original=minusculas.split()\n",
    "    alfabetica=sorted(original)\n",
    "    print(sorted(alfabetica,key=len))\n",
    "    \n",
    "   \n",
    "texto=input(\"Dime una frase:\")\n",
    "separacion(texto)"
   ]
  },
  {
   "cell_type": "markdown",
   "metadata": {},
   "source": [
    "**7. Las matrículas actuales de los coches en España están compuestas por cuatro dígitos y tres consonantes. Escribe un programa que lea una matrícula, una letra y un número y nos diga si**\n",
    "  * **La matrícula contiene ese dígito**\n",
    "  * **Las letras de la matrícula comienzan con la letra dada**\n",
    "  * **Ambas cosas**\n",
    "  * **Ninguna de las dos cosas**"
   ]
  },
  {
   "cell_type": "code",
   "execution_count": 11,
   "metadata": {},
   "outputs": [
    {
     "name": "stdout",
     "output_type": "stream",
     "text": [
      "Dime una matrícula, siguiendo el formato 0000ccc:5678rod\n",
      "Ahora dime un número:7\n",
      "Dime también una letra, en minúscula:r\n",
      "Las dos condiciones se cumplen\n",
      "El número está\n",
      "La letra está en la matrícula y es la primera del grupo de letras\n"
     ]
    }
   ],
   "source": [
    "def contiene(cadena1,cadena2,cadena3):\n",
    "    if (cadena2 in cadena1 and cadena3==cadena1[4]):\n",
    "        print(\"Las dos condiciones se cumplen\")   \n",
    "    if (((cadena2 in cadena1)==False) and ((cadena3 in cadena1)==False)):\n",
    "        print(\"No se cumplen ninguna de las condiciones\")\n",
    "    else:\n",
    "        if cadena2 in cadena1:\n",
    "            print(\"El número está\")\n",
    "        if (cadena2 in cadena1)==False:\n",
    "            print(\"El número no está\")\n",
    "        if cadena3 in cadena1:\n",
    "            if cadena3==cadena1[4]:\n",
    "                print(\"La letra está en la matrícula y es la primera del grupo de letras\")\n",
    "            if cadena3!=cadena1[4]:\n",
    "                print(\"Aunque la letra está en la matrícula, no es la primera del grupo de letras\")\n",
    "        if (cadena3 in cadena1)==False:\n",
    "            print(\"La letra no está\")\n",
    "\n",
    "matricula=input(\"Dime una matrícula, siguiendo el formato 0000ccc:\")\n",
    "num=input(\"Ahora dime un número:\")\n",
    "letra=input(\"Dime también una letra, en minúscula:\")\n",
    "contiene(matricula,num,letra)"
   ]
  },
  {
   "cell_type": "markdown",
   "metadata": {},
   "source": [
    "**8. Dada una lista de matrículas, un dígito y una letra, escribe un programa que nos diga cuántas matrículas cumplen cada una de las condiciones anteriores**"
   ]
  },
  {
   "cell_type": "code",
   "execution_count": 14,
   "metadata": {},
   "outputs": [
    {
     "name": "stdout",
     "output_type": "stream",
     "text": [
      "Dime un número:7\n",
      "Escribe una letra, en minúscula:r\n",
      "El número que me has dicho aparece 4 veces en la lista de matrículas\n",
      "La letra que me has escrito aparece 1 veces como la primera letra en las matrículas de la lista\n",
      "La combinación de letra y número que me has dado cumple ambas condiciones 1 veces\n",
      "La combinación que me has dado no cumple ninguna de las condiciones en 3 matrículas de la lista\n"
     ]
    }
   ],
   "source": [
    "def contiene_lista(lista,cadena1,cadena2):\n",
    "    contador_letras=0\n",
    "    contador_numeros=0\n",
    "    contador_ambos=0\n",
    "    contador_ninguno=0\n",
    "    for objeto in lista:\n",
    "        if (cadena1 in objeto and cadena2==objeto[4]):\n",
    "            contador_ambos+=1\n",
    "        if ((cadena1 in objeto)==False and cadena2!=objeto[4]):\n",
    "            contador_ninguno+=1\n",
    "        for c in objeto:\n",
    "            if cadena1==c:\n",
    "                contador_numeros+=1\n",
    "        if cadena2==objeto[4]:\n",
    "            contador_letras+=1\n",
    "    print(\"El número que me has dicho aparece %i veces en la lista de matrículas\" % contador_numeros)\n",
    "    print(\"La letra que me has escrito aparece %i veces como la primera letra en las matrículas de la lista\" % contador_letras)\n",
    "    print(\"La combinación de letra y número que me has dado cumple ambas condiciones %i veces\" % contador_ambos)\n",
    "    print(\"La combinación que me has dado no cumple ninguna de las condiciones en %i matrículas de la lista\" % contador_ninguno)\n",
    "    \n",
    "\n",
    "matriculas=[\"7777rgu\",\"1850sga\",\"8950pva\",\"2109ivg\"]\n",
    "numeros=input(\"Dime un número:\")\n",
    "letras=input(\"Escribe una letra, en minúscula:\")\n",
    "contiene_lista(matriculas,numeros,letras)"
   ]
  },
  {
   "cell_type": "markdown",
   "metadata": {},
   "source": [
    "**9. En https://www.dieselogasolina.com/tabla-matriculas-por-anos.html puedes encontrar una tabla con las últimas letras asignadas cada mes desde el año 2000 para matricular coches. Escribe un programa que reciba la matrícula completa de un coche y devuelva el mes y el año en el que fue matriculado**"
   ]
  },
  {
   "cell_type": "code",
   "execution_count": null,
   "metadata": {},
   "outputs": [],
   "source": []
  },
  {
   "cell_type": "markdown",
   "metadata": {},
   "source": [
    "**10. El índice $r$ de contagio del coronavirus mide el número medio de contagios que causa cada persona infectada. Si $r=3$ y el primer día de la epidemia hay una persona contagiada, esa persona contagiará a 3, por lo que el segundo día habrá 4 personas contagiadas. Esas tres nuevas personas contagiadas contagiarán a otras 3 cada una, por lo que habrá 9 nuevos contagiados, haciendo un total de 13 personas contagiadas. Escribe un programa que pida el número inicial de contagiados $i$, el valor del índice medio de contagios $r$ y un número $n$ de días y escriba por pantalla la evolución en el número de contagiados durante los primeros $n$ días de pandemia. Para cada día debe imprimir el número de nuevos contagios y el número de contagios acumulados**"
   ]
  },
  {
   "cell_type": "code",
   "execution_count": 16,
   "metadata": {},
   "outputs": [
    {
     "name": "stdout",
     "output_type": "stream",
     "text": [
      "Introduce el número inicial de contagios3\n",
      "Índice de contagio4\n",
      "Número de días transcurridos 5\n",
      "El dia 1 se producen 3 nuevos contagios, lo cual acumula un total de 3\n",
      "El dia 2 se producen 12 nuevos contagios, lo cual acumula un total de 15\n",
      "El dia 3 se producen 48 nuevos contagios, lo cual acumula un total de 63\n",
      "El dia 4 se producen 192 nuevos contagios, lo cual acumula un total de 255\n",
      "El dia 5 se producen 768 nuevos contagios, lo cual acumula un total de 1023\n"
     ]
    }
   ],
   "source": [
    "def evolucion(n1,n2,n3):\n",
    "    acumulado=0\n",
    "    a=(n3-(n3-1))\n",
    "    while a<=n3:\n",
    "        nuevos=(n1*(n2**(a-1)))\n",
    "        acumulado=acumulado+nuevos\n",
    "        print(\"El dia\",a,\"se producen\",round(nuevos),\"nuevos contagios, lo cual acumula un total de\",round(acumulado))\n",
    "        a=a+1\n",
    "\n",
    "\n",
    "contagios_iniciales=eval(input(\"Introduce el número inicial de contagios\"))\n",
    "indice_r=eval(input(\"Índice de contagio\"))\n",
    "dias=eval(input(\"Número de días transcurridos \"))\n",
    "evolucion(contagios_iniciales,indice_r,dias)\n"
   ]
  },
  {
   "cell_type": "markdown",
   "metadata": {},
   "source": [
    "**11. Puedes obtener una lista de códigos postales de (https://www.codigospostales.com/descarga.html). En el fichero .zip que te puedes descargar de ahí puedes obtener los códigos postales de todas las poblaciones de España, pero están estructurados de una forma un poco particular, aunque sencilla de procesar automáticamente. El objetivo último del ejercicio es obtener un fichero con un listado de todos los códigos postales de España asociados a su provincia y población, ordenados por código postal. Cada línea deberá tener el formato**  \n",
    "    *CódigoPostal Provincia Poblaciones*  \n",
    "Indicaciones para resolver el ejercicio:\n",
    "* Abre el fichero codciu.txt. En cada línea de ese fichero puedes encontrar un código compuesto por tres números o dos números y una letra, seguidos del nombre de una población o provincia.\n",
    "* Para cada línea, debes separar los tres primeros caracteres de los demás, y después\n",
    "  + Si de esos tres primeros caracteres hay dos números y una x (NNx), quiere decir que el fichero asociado contiene información de poblaciones pequeñas de la provincia. Procesa los ficheros de nombre NNxcodpos.txt y extrae los códigos postales y las poblaciones asociadas a cada código postal (puede haber varias)\n",
    "  + Si de esos tres primeros caracteres hay tres números (NNN) o dos números y una letra que no sea x (p.e. NNa), quiere decir que el fichero asociado contiene los códigos postales de poblaciones grandes, con más de un código postal. En este caso, la información aparece desglosada por todas las calles que tienen cada uno de los códigos postales, con lo que cada código postal aparece multitud de veces. Descartando la información de las calles, recopila todos los códigos postales distintos que haya en esos ficheros y asócialos a la ciudad y provincia corresondientes"
   ]
  },
  {
   "cell_type": "code",
   "execution_count": null,
   "metadata": {},
   "outputs": [],
   "source": []
  },
  {
   "cell_type": "markdown",
   "metadata": {},
   "source": [
    "**12. Acabas de comenzar a trabajar en el INE, y tu primera labor es recopilar la información que te proporcionan distintas autoridades locales para presentársela a tu jefe. La Agrupación de Municipios de España te ha proporcionado una lista de códigos postales y las poblaciones a las que pertenecen, aunque no te aseguran que esté actualizada y pueden faltar códigos postales. La Policía Nacional te ha proporcionado una lista de la cantidad de robos que se han producido en distintas poblaciones, asociados también a códigos postales. Si no se han producido robos, el código postal no aparece. La Guardia Civil te ha proporcionado una lista con la cantidad de incautaciones de drogas junto con el nombre de la población en el que se han producido. La Federación de Policías Municipales de España te ha enviado una lista con el número de infracciones que se han sancionado agrupadas también por poblaciones, y la Coordinadora de Cuerpos de Bomberos Nacional ha proporcionado el número de incendios sofocados, agrupados por código postal. Sabiendo que no todas las poblaciones y códigos postales tienen por qué aparecer en cada uno de los ficheros, escribe un programa que lea toda esta información, la agrupe de la manera más conveniente y la presente de manera ordenada.**  \n",
    "Antes de comenzar a resolver el ejercicio, puedes hacerte pequeños programas que te generen la información que necesitas para probar el ejercicio."
   ]
  },
  {
   "cell_type": "code",
   "execution_count": null,
   "metadata": {},
   "outputs": [],
   "source": []
  },
  {
   "cell_type": "markdown",
   "metadata": {},
   "source": [
    "**13. Nuestra ciudad cuenta con un sistema de semáforos equipados con radares que, cuando un coche se los salta en rojo, anotan la matrícula del coche, la fecha, la hora y el identificador del semáforo en el que se produjo la infracción. Escribe un programa que lea un fichero con esa información y la introduzca en un diccionario. Después debe leer una matrícula y devolver una lista de las infracciones cometidas por ese vehículo, ordenada por fecha y hora. A continuación, debe leer un identificador de semáforo y devolver todas las infracciones que ha registrado ordenadas por matrícula**  \n",
    "Al igual que en el ejercicio anterior, puedes escribir pequeños programas que te ayuden a generar los ficheros con la información que necesitas"
   ]
  },
  {
   "cell_type": "code",
   "execution_count": null,
   "metadata": {},
   "outputs": [],
   "source": []
  }
 ],
 "metadata": {
  "kernelspec": {
   "display_name": "Python 3",
   "language": "python",
   "name": "python3"
  },
  "language_info": {
   "codemirror_mode": {
    "name": "ipython",
    "version": 3
   },
   "file_extension": ".py",
   "mimetype": "text/x-python",
   "name": "python",
   "nbconvert_exporter": "python",
   "pygments_lexer": "ipython3",
   "version": "3.8.3"
  }
 },
 "nbformat": 4,
 "nbformat_minor": 4
}
