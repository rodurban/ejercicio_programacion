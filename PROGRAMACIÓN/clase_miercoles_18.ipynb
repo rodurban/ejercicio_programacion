{
 "cells": [
  {
   "cell_type": "markdown",
   "metadata": {},
   "source": [
    "##Clase del 18 de noviembre\n",
    "#Estructura de control"
   ]
  },
  {
   "cell_type": "code",
   "execution_count": null,
   "metadata": {},
   "outputs": [],
   "source": []
  },
  {
   "cell_type": "code",
   "execution_count": 1,
   "metadata": {},
   "outputs": [
    {
     "name": "stdout",
     "output_type": "stream",
     "text": [
      "dime tu nombre: luis\n",
      "Los que se llaman luis no me caen bien\n",
      "Hasta luego\n"
     ]
    }
   ],
   "source": [
    "nombre=input(\"dime tu nombre: \")\n",
    "if nombre==\"Luis\":\n",
    "    print(\"Hola \"+nombre)\n",
    "    print(\"Que tal estás\")\n",
    "elif nombre==\"luis\" or nombre==\"Juan\":\n",
    "    print(\"Los que se llaman \"+nombre+\" no me caen bien\")\n",
    "else:\n",
    "    print(\"Encantado de conocerte\")\n",
    "    \n",
    "print(\"Hasta luego\")"
   ]
  },
  {
   "cell_type": "code",
   "execution_count": 2,
   "metadata": {},
   "outputs": [
    {
     "name": "stdout",
     "output_type": "stream",
     "text": [
      "Dime un numero: 12\n",
      "es par\n"
     ]
    }
   ],
   "source": [
    "numero=input(\"Dime un numero: \")\n",
    "\n",
    "if numero.isdigit():\n",
    "    numero=eval(numero)\n",
    "    if numero%2==0:\n",
    "        print(\"es par\")\n",
    "    else:\n",
    "        print(\"Es impar\")\n",
    "else:\n",
    "    print(\"eso no es numero\")"
   ]
  },
  {
   "cell_type": "code",
   "execution_count": 3,
   "metadata": {},
   "outputs": [
    {
     "name": "stdout",
     "output_type": "stream",
     "text": [
      "1\n",
      "2\n",
      "3\n",
      "4\n",
      "5\n",
      "6\n",
      "7\n",
      "8\n",
      "9\n",
      "10\n"
     ]
    }
   ],
   "source": [
    "a=1\n",
    "while a<=10:\n",
    "    print(a)\n",
    "    a=a+1"
   ]
  },
  {
   "cell_type": "code",
   "execution_count": 6,
   "metadata": {},
   "outputs": [
    {
     "name": "stdout",
     "output_type": "stream",
     "text": [
      "Dime el dividendo21\n",
      "dime el divisor7\n",
      "cociente:  3\n",
      "resto:  0\n"
     ]
    }
   ],
   "source": [
    "dividendo=eval(input(\"Dime el dividendo\"))\n",
    "divisor=eval(input(\"dime el divisor\"))\n",
    "cociente=0\n",
    "\n",
    "while dividendo>=divisor:\n",
    "    cociente=cociente+1\n",
    "    dividendo=dividendo-divisor\n",
    "    \n",
    "print(\"cociente: \" , cociente)\n",
    "print(\"resto: \", dividendo)"
   ]
  },
  {
   "cell_type": "code",
   "execution_count": null,
   "metadata": {},
   "outputs": [],
   "source": []
  },
  {
   "cell_type": "code",
   "execution_count": 8,
   "metadata": {},
   "outputs": [
    {
     "name": "stdout",
     "output_type": "stream",
     "text": [
      "Dime la potencia (2^`x)10\n",
      "2 4 8 16 32 64 128 256 512 1024 "
     ]
    }
   ],
   "source": [
    "potencia=eval(input(\"Dime la potencia (2^`x)\"))\n",
    "pot=1\n",
    "\n",
    "while potencia>0:\n",
    "    pot=pot*2\n",
    "    potencia=potencia-1\n",
    "    print(pot,end=' ')"
   ]
  },
  {
   "cell_type": "code",
   "execution_count": 17,
   "metadata": {},
   "outputs": [
    {
     "name": "stdout",
     "output_type": "stream",
     "text": [
      "Dime un numero: 50\n",
      "1\n",
      "2\n",
      "3\n",
      "5\n",
      "7\n",
      "11\n",
      "13\n",
      "17\n",
      "19\n",
      "23\n",
      "29\n",
      "31\n",
      "37\n",
      "41\n",
      "43\n",
      "47\n"
     ]
    }
   ],
   "source": [
    "limite=eval(input(\"Dime un numero: \"))\n",
    "primo=1\n",
    "while primo<limite:\n",
    "    divisor=2\n",
    "    \n",
    "    while (divisor<primo) and (primo%divisor!=0):\n",
    "        divisor=divisor+1\n",
    "        \n",
    "    if divisor>=primo:\n",
    "        print(primo)\n",
    "        \n",
    "    primo=primo+1\n",
    "    "
   ]
  },
  {
   "cell_type": "markdown",
   "metadata": {},
   "source": [
    "Estructuras de Datos"
   ]
  },
  {
   "cell_type": "code",
   "execution_count": 6,
   "metadata": {},
   "outputs": [
    {
     "name": "stdout",
     "output_type": "stream",
     "text": [
      "['enero', 'febrero', 'marzo', 'abril', 'mayo', 'julio', 'agosto', 'septiembre', 'octubre', 'noviembre', 'diciembre']\n"
     ]
    }
   ],
   "source": [
    "meses=[\"enero\",\"febrero\",\"marzo\",\"abril\",\"mayo\",\"julio\",\n",
    "      \"agosto\",\"septiembre\",\"octubre\",\"noviembre\",\"diciembre\"]\n",
    "print(meses)"
   ]
  },
  {
   "cell_type": "code",
   "execution_count": 4,
   "metadata": {},
   "outputs": [
    {
     "name": "stdout",
     "output_type": "stream",
     "text": [
      "abril\n"
     ]
    }
   ],
   "source": [
    "print(meses[3])"
   ]
  },
  {
   "cell_type": "code",
   "execution_count": 7,
   "metadata": {},
   "outputs": [
    {
     "name": "stdout",
     "output_type": "stream",
     "text": [
      "['enero', 'marzo', 'abril', 'mayo', 'julio', 'agosto', 'septiembre', 'octubre', 'noviembre', 'diciembre']\n"
     ]
    }
   ],
   "source": [
    "meses.remove(\"febrero\")\n",
    "print(meses)"
   ]
  },
  {
   "cell_type": "code",
   "execution_count": 9,
   "metadata": {},
   "outputs": [
    {
     "name": "stdout",
     "output_type": "stream",
     "text": [
      "['enero', 'marzo', 'abril', 'mayo', 'julio', 'agosto', 'septiembre', 'octubre', 'noviembre', 'diciembre', 'febrero', 'febrero']\n"
     ]
    }
   ],
   "source": [
    "meses.append(\"febrero\")\n",
    "print(meses)"
   ]
  },
  {
   "cell_type": "code",
   "execution_count": 10,
   "metadata": {},
   "outputs": [
    {
     "name": "stdout",
     "output_type": "stream",
     "text": [
      "12\n"
     ]
    }
   ],
   "source": [
    "print(len(meses))"
   ]
  },
  {
   "cell_type": "code",
   "execution_count": 11,
   "metadata": {},
   "outputs": [
    {
     "name": "stdout",
     "output_type": "stream",
     "text": [
      "enero\n",
      "marzo\n",
      "abril\n",
      "mayo\n",
      "julio\n",
      "agosto\n",
      "septiembre\n",
      "octubre\n",
      "noviembre\n",
      "diciembre\n",
      "febrero\n",
      "febrero\n"
     ]
    }
   ],
   "source": [
    "pos=0\n",
    "#while pos<len(meses):\n",
    "   # print(meses[pos])\n",
    "    #pos=pos+1"
   ]
  },
  {
   "cell_type": "code",
   "execution_count": 12,
   "metadata": {},
   "outputs": [
    {
     "name": "stdout",
     "output_type": "stream",
     "text": [
      "enero\n",
      "marzo\n",
      "abril\n",
      "mayo\n",
      "julio\n",
      "agosto\n",
      "septiembre\n",
      "octubre\n",
      "noviembre\n",
      "diciembre\n",
      "febrero\n",
      "febrero\n"
     ]
    }
   ],
   "source": [
    "for mes in meses:\n",
    "    print(mes)"
   ]
  },
  {
   "cell_type": "code",
   "execution_count": 20,
   "metadata": {},
   "outputs": [
    {
     "ename": "SyntaxError",
     "evalue": "invalid syntax (<ipython-input-20-c83f809ba9ee>, line 3)",
     "output_type": "error",
     "traceback": [
      "\u001b[1;36m  File \u001b[1;32m\"<ipython-input-20-c83f809ba9ee>\"\u001b[1;36m, line \u001b[1;32m3\u001b[0m\n\u001b[1;33m    if mes==\"febrero\"\u001b[0m\n\u001b[1;37m                     ^\u001b[0m\n\u001b[1;31mSyntaxError\u001b[0m\u001b[1;31m:\u001b[0m invalid syntax\n"
     ]
    }
   ],
   "source": [
    "contador=0\n",
    "for mes in meses:\n",
    "    if mes==\"febrero\"\n",
    "    contador+=1\n",
    "print(\"Febrero aparece %i veces\" % (contador))\n",
    "    "
   ]
  },
  {
   "cell_type": "code",
   "execution_count": 21,
   "metadata": {},
   "outputs": [
    {
     "ename": "SyntaxError",
     "evalue": "invalid syntax (<ipython-input-21-98cad49333ee>, line 5)",
     "output_type": "error",
     "traceback": [
      "\u001b[1;36m  File \u001b[1;32m\"<ipython-input-21-98cad49333ee>\"\u001b[1;36m, line \u001b[1;32m5\u001b[0m\n\u001b[1;33m    if mes==\"febrero\"\u001b[0m\n\u001b[1;37m                     ^\u001b[0m\n\u001b[1;31mSyntaxError\u001b[0m\u001b[1;31m:\u001b[0m invalid syntax\n"
     ]
    }
   ],
   "source": [
    "meses.index(\"febrero\")\n",
    "\n",
    "contador=0\n",
    "for mes in meses:\n",
    "    if mes==\"febrero\"\n",
    "    contador+=1\n",
    "print(\"Febrero aparece %i veces\" % (contador))\n",
    "    "
   ]
  },
  {
   "cell_type": "code",
   "execution_count": 18,
   "metadata": {},
   "outputs": [
    {
     "ename": "SyntaxError",
     "evalue": "invalid syntax (<ipython-input-18-8c0bec58ac73>, line 3)",
     "output_type": "error",
     "traceback": [
      "\u001b[1;36m  File \u001b[1;32m\"<ipython-input-18-8c0bec58ac73>\"\u001b[1;36m, line \u001b[1;32m3\u001b[0m\n\u001b[1;33m    if mes==\"febrero\"\u001b[0m\n\u001b[1;37m                     ^\u001b[0m\n\u001b[1;31mSyntaxError\u001b[0m\u001b[1;31m:\u001b[0m invalid syntax\n"
     ]
    }
   ],
   "source": [
    "contador=0\n",
    "for mes in meses:\n",
    "    if mes==\"febrero\"\n",
    "    contador+=1\n",
    "\n",
    "print(\"Febrero aparece %i veces\" % (contador))\n",
    "    "
   ]
  },
  {
   "cell_type": "code",
   "execution_count": 22,
   "metadata": {},
   "outputs": [],
   "source": [
    "meses.insert(1,\"febrero\")"
   ]
  },
  {
   "cell_type": "code",
   "execution_count": 23,
   "metadata": {},
   "outputs": [
    {
     "name": "stdout",
     "output_type": "stream",
     "text": [
      "['enero', 'febrero', 'marzo', 'abril', 'mayo', 'julio', 'agosto', 'septiembre', 'octubre', 'noviembre', 'diciembre', 'febrero', 'febrero']\n"
     ]
    }
   ],
   "source": [
    "print(meses)"
   ]
  },
  {
   "cell_type": "code",
   "execution_count": 26,
   "metadata": {},
   "outputs": [
    {
     "name": "stdout",
     "output_type": "stream",
     "text": [
      "['enero', 'febrero', 'marzo', 'abril', 'mayo', 'julio', 'agosto', 'septiembre', 'octubre', 'noviembre', 'diciembre']\n"
     ]
    }
   ],
   "source": [
    "del meses[11]\n",
    "print(meses)"
   ]
  },
  {
   "cell_type": "code",
   "execution_count": 27,
   "metadata": {},
   "outputs": [
    {
     "name": "stdout",
     "output_type": "stream",
     "text": [
      "['enero', 'marzo', 'abril', 'mayo', 'julio', 'agosto', 'septiembre', 'octubre', 'noviembre', 'diciembre']\n"
     ]
    }
   ],
   "source": [
    "if \"febrero\" in meses:\n",
    "    meses.remove(\"febrero\")\n",
    "print(meses)"
   ]
  },
  {
   "cell_type": "code",
   "execution_count": 33,
   "metadata": {},
   "outputs": [
    {
     "name": "stdout",
     "output_type": "stream",
     "text": [
      "[1]\n"
     ]
    }
   ],
   "source": [
    "lista_numeros=[1,2,3,4,5,6,7,8,9,10]\n",
    "nueva_lista=lista_numeros[0::-2]\n",
    "print(nueva_lista)"
   ]
  },
  {
   "cell_type": "code",
   "execution_count": 34,
   "metadata": {},
   "outputs": [
    {
     "name": "stdout",
     "output_type": "stream",
     "text": [
      "[1, 2, 3, 4, 5, 6, 7, 8, 9, 10, 11, 12, 13, 14, 15, 16, 17, 18, 19, 20]\n"
     ]
    }
   ],
   "source": [
    "otra_lista=[11,12,13,14,15,16,17,18,19,20]\n",
    "lista_larga=lista_numeros+otra_lista\n",
    "\n",
    "print(lista_larga)"
   ]
  },
  {
   "cell_type": "code",
   "execution_count": 35,
   "metadata": {},
   "outputs": [
    {
     "name": "stdout",
     "output_type": "stream",
     "text": [
      "[1, 2, 3, 4, 5, 6, 7, 8, 9, 10, 1, 2, 3, 4, 5, 6, 7, 8, 9, 10, 1, 2, 3, 4, 5, 6, 7, 8, 9, 10]\n"
     ]
    }
   ],
   "source": [
    "print(lista_numeros*3)"
   ]
  },
  {
   "cell_type": "code",
   "execution_count": 37,
   "metadata": {},
   "outputs": [
    {
     "name": "stdout",
     "output_type": "stream",
     "text": [
      "[3, 6, 9, 12, 15, 18, 21, 24, 27, 30]\n"
     ]
    }
   ],
   "source": [
    "lista_por_tres=[]\n",
    "for num in lista_numeros:\n",
    "    lista_por_tres.append(num*3)\n",
    "print(lista_por_tres)"
   ]
  },
  {
   "cell_type": "code",
   "execution_count": null,
   "metadata": {},
   "outputs": [],
   "source": []
  }
 ],
 "metadata": {
  "kernelspec": {
   "display_name": "Python 3",
   "language": "python",
   "name": "python3"
  },
  "language_info": {
   "codemirror_mode": {
    "name": "ipython",
    "version": 3
   },
   "file_extension": ".py",
   "mimetype": "text/x-python",
   "name": "python",
   "nbconvert_exporter": "python",
   "pygments_lexer": "ipython3",
   "version": "3.8.3"
  }
 },
 "nbformat": 4,
 "nbformat_minor": 4
}
