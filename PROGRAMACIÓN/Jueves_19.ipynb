{
 "cells": [
  {
   "cell_type": "markdown",
   "metadata": {},
   "source": [
    "ejercicio para la casa"
   ]
  },
  {
   "cell_type": "code",
   "execution_count": null,
   "metadata": {},
   "outputs": [],
   "source": [
    "numero_st=input(\"introduce un número positivo\")\n",
    "if numero_st.isdigit():\n",
    "    numero=eval(numero_st)\n",
    "    suma=0\n",
    "    while numero>0:\n",
    "        suma=suma+numero%10\n",
    "        numero=int(numero/10)\n",
    "    print(\"la suma de las cifrases \",suma)\n",
    "    \n",
    "else:\n",
    "    print(\"eso no es un número\")"
   ]
  },
  {
   "cell_type": "code",
   "execution_count": null,
   "metadata": {},
   "outputs": [],
   "source": [
    "lista_ciudades = [\"Madrid\",\"Alcorcón\",\"Móstoles\",\"Fuenla\"]\n",
    "\n",
    "print(lista_ciudades)\n",
    "ciudad=input(\"Dime una ciudad\")\n",
    "\n",
    "if ciudad in lista_ciudades:\n",
    "    print(lista_ciudades.index(ciudad))\n",
    "else:\n",
    "    print(ciudad,\"no está en la lista, la incluyo\")\n",
    "    lista_ciudades.append(ciudad)\n",
    "    print(lista_ciudades)"
   ]
  },
  {
   "cell_type": "code",
   "execution_count": 4,
   "metadata": {},
   "outputs": [
    {
     "ename": "SyntaxError",
     "evalue": "invalid syntax (<ipython-input-4-41b4ca87c236>, line 4)",
     "output_type": "error",
     "traceback": [
      "\u001b[1;36m  File \u001b[1;32m\"<ipython-input-4-41b4ca87c236>\"\u001b[1;36m, line \u001b[1;32m4\u001b[0m\n\u001b[1;33m    else:\u001b[0m\n\u001b[1;37m    ^\u001b[0m\n\u001b[1;31mSyntaxError\u001b[0m\u001b[1;31m:\u001b[0m invalid syntax\n"
     ]
    }
   ],
   "source": [
    "pos=eval(input(\"dime una posición: \"))\n",
    "\n",
    "print(\"la ciudad en la posición\",pos, %i es %s\" % (pos,lista_ciudades[pos]))\n",
    "else:\n",
    "    print(\"no hay tantas ciudades\")"
   ]
  },
  {
   "cell_type": "markdown",
   "metadata": {},
   "source": [
    "4. crea una lista con varios numeros y usando un bucle for imprime aquellos numeros pares"
   ]
  },
  {
   "cell_type": "code",
   "execution_count": 6,
   "metadata": {},
   "outputs": [
    {
     "name": "stdout",
     "output_type": "stream",
     "text": [
      "2 2 4 6 8 10 Hay 0 números pares\n"
     ]
    }
   ],
   "source": [
    "lista_numeros=[1,2,2,4,5,6,7,8,9,10]\n",
    "num_pares=0\n",
    "\n",
    "for numero in lista_numeros:\n",
    "    if numero%2==0:\n",
    "        \n",
    "        print(numero,end=\" \")\n",
    "        \n",
    "print(\"Hay %i números pares\" % (num_pares))"
   ]
  },
  {
   "cell_type": "code",
   "execution_count": null,
   "metadata": {},
   "outputs": [],
   "source": [
    "meses = [\"enero\",\"febrero\",\"marzo\",\"abril\",\"mayo\",\"Junio\",\"julio\"]\n",
    "for (i,valor)"
   ]
  },
  {
   "cell_type": "code",
   "execution_count": 7,
   "metadata": {},
   "outputs": [
    {
     "name": "stdout",
     "output_type": "stream",
     "text": [
      "[200, 202, 204, 206, 208, 210, 212, 214, 216, 218, 220, 222, 224, 226, 228, 230, 232, 234, 236, 238, 240, 242, 244, 246, 248, 250, 252, 254, 256, 258, 260, 262, 264, 266, 268, 270, 272, 274, 276, 278, 280, 282, 284, 286, 288, 290, 292, 294, 296, 298, 300]\n"
     ]
    }
   ],
   "source": [
    "lista_numeros=[]\n",
    "for i in range(200,301,2):\n",
    "   lista_numeros.append(i)\n",
    "print(lista_numeros)"
   ]
  },
  {
   "cell_type": "code",
   "execution_count": 8,
   "metadata": {},
   "outputs": [
    {
     "name": "stdout",
     "output_type": "stream",
     "text": [
      "28001 MADRID\n",
      "08001 BARCELONA\n",
      "43002 ORENSE\n"
     ]
    }
   ],
   "source": [
    "cp=[\"28001\",\"08001\",\"43002\"]\n",
    "ciudades=[\"Madrid\",\"Barcelona\",\"orense\",\"santander\"]\n",
    "\n",
    "for c1,c2 in zip (cp,ciudades):\n",
    "    print(c1,c2.upper())"
   ]
  },
  {
   "cell_type": "code",
   "execution_count": 9,
   "metadata": {},
   "outputs": [
    {
     "name": "stdout",
     "output_type": "stream",
     "text": [
      "['28001', '08001', '43002']\n",
      "['08001', '28001', '43002']\n"
     ]
    }
   ],
   "source": [
    "print(cp)\n",
    "cp.sort()\n",
    "print(cp)"
   ]
  },
  {
   "cell_type": "code",
   "execution_count": 37,
   "metadata": {},
   "outputs": [
    {
     "name": "stdout",
     "output_type": "stream",
     "text": [
      "La persona Samy aparece 3 veces.\n",
      "La persona Samy aparece 3 veces.\n",
      "La persona Samy aparece 3 veces.\n",
      "La persona Samy aparece 3 veces.\n",
      "La persona Samy aparece 3 veces.\n",
      "La persona Samy aparece 3 veces.\n"
     ]
    },
    {
     "data": {
      "text/plain": [
       "33.333333333333336"
      ]
     },
     "execution_count": 37,
     "metadata": {},
     "output_type": "execute_result"
    }
   ],
   "source": [
    "lista_curso=[\"Gullie\",\"Samy\",\"Gabo\",\"Gisela\",\"Samy\",\"Marcos\",\"Iñaqui\",\"Fito\",\"Samy\"]\n",
    "a=\"Samy\"\n",
    "cont=0\n",
    "for curso in lista_curso:\n",
    "    if curso==a:\n",
    "        cont+=1\n",
    "        \n",
    "print(f\"La persona {a} aparece {cont} veces.\")\n",
    "print(\"La persona %s aparece %i veces.\" % (a, cont))\n",
    "print(\"La persona\",a,\"aparece\", cont ,\"veces.\")\n",
    "print(\"La persona \" + a + \" aparece \" + str(cont) + \" veces.\")\n",
    "print(\"La persona \" + a + \" aparece \" + str(cont) + \" veces.\")\n",
    "print(\"La persona {} aparece {} veces.\".format(a, cont))\n",
    "cont *100/ len(lista_curso)"
   ]
  },
  {
   "cell_type": "code",
   "execution_count": 39,
   "metadata": {},
   "outputs": [
    {
     "name": "stdout",
     "output_type": "stream",
     "text": [
      "tres\n",
      "3\n",
      "('uno', 'dos', 'tres', 'uno', 'dos', 'tres', 'uno', 'dos', 'tres')\n"
     ]
    }
   ],
   "source": [
    "tupla1=(\"uno\",\"dos\",\"tres\")\n",
    "tupla2=(\"cuatro\",\"cinco\",\"seis\",\"siete\")\n",
    "\n",
    "print(tupla1[2])\n",
    "print(len(tupla1))\n",
    "print(tupla1*3)\n"
   ]
  },
  {
   "cell_type": "code",
   "execution_count": 41,
   "metadata": {},
   "outputs": [
    {
     "name": "stdout",
     "output_type": "stream",
     "text": [
      "[('28040', 'Madrid'), ('00080', 'Barcelona'), ('28002', 'Madrid')]\n"
     ]
    }
   ],
   "source": [
    "lista_ciudades=[(\"28040\",\"Madrid\"),(\"00080\",\"Barcelona\"),(\"28002\",\"Madrid\")]\n",
    "print(lista_ciudades)"
   ]
  },
  {
   "cell_type": "code",
   "execution_count": 43,
   "metadata": {},
   "outputs": [
    {
     "name": "stdout",
     "output_type": "stream",
     "text": [
      "28040\n",
      "28002\n"
     ]
    }
   ],
   "source": [
    "for ciudad in lista_ciudades:\n",
    "    if ciudad[1]==\"Madrid\":\n",
    "        print(ciudad[0])"
   ]
  },
  {
   "cell_type": "code",
   "execution_count": 48,
   "metadata": {},
   "outputs": [
    {
     "name": "stdout",
     "output_type": "stream",
     "text": [
      "{1: 'a', 11: 'b', 2: 'aa', 12: 'bb', 3: 'aaa', 13: 'bbb', 4: 'aaaa', 14: 'bbbb', 5: 'aaaaa', 15: 'bbbbb', 6: 'aaaaaa', 16: 'bbbbbb', 7: 'aaaaaaa', 17: 'bbbbbbb', 8: 'aaaaaaaa', 18: 'bbbbbbbb', 9: 'aaaaaaaaa', 19: 'bbbbbbbbb', 10: 'aaaaaaaaaa', 20: 'bbbbbbbbbb'}\n"
     ]
    }
   ],
   "source": [
    "diccionario={}\n",
    "\n",
    "for i in range(1,11):\n",
    "    diccionario[i]=\"a\"*i\n",
    "    diccionario[i+10]=\"b\"*i\n",
    "    \n",
    "print(diccionario)"
   ]
  },
  {
   "cell_type": "code",
   "execution_count": 56,
   "metadata": {},
   "outputs": [
    {
     "name": "stdout",
     "output_type": "stream",
     "text": [
      "1 : a\n",
      "11 : b\n",
      "2 : aa\n",
      "12 : bb\n",
      "3 : aaa\n",
      "13 : bbb\n",
      "4 : aaaa\n",
      "14 : bbbb\n",
      "5 : aaaaa\n",
      "15 : bbbbb\n",
      "6 : aaaaaa\n",
      "16 : bbbbbb\n",
      "7 : aaaaaaa\n",
      "17 : bbbbbbb\n",
      "8 : aaaaaaaa\n",
      "18 : bbbbbbbb\n",
      "9 : aaaaaaaaa\n",
      "19 : bbbbbbbbb\n",
      "10 : aaaaaaaaaa\n",
      "20 : bbbbbbbbbb\n"
     ]
    }
   ],
   "source": [
    "for num in diccionario:\n",
    "    print(num,\":\", end=\" \")\n",
    "    print(diccionario[num])"
   ]
  },
  {
   "cell_type": "code",
   "execution_count": 54,
   "metadata": {},
   "outputs": [
    {
     "data": {
      "text/plain": [
       "[1, 2, 3, 4, 5, 6, 7, 8, 9, 10, 11, 12, 13, 14, 15, 16, 17, 18, 19, 20]"
      ]
     },
     "execution_count": 54,
     "metadata": {},
     "output_type": "execute_result"
    }
   ],
   "source": [
    "sorted(diccionario)"
   ]
  },
  {
   "cell_type": "code",
   "execution_count": 59,
   "metadata": {},
   "outputs": [
    {
     "name": "stdout",
     "output_type": "stream",
     "text": [
      "1 : a\n",
      "2 : aa\n",
      "3 : aaa\n",
      "4 : aaaa\n",
      "5 : aaaaa\n",
      "6 : aaaaaa\n",
      "7 : aaaaaaa\n",
      "8 : aaaaaaaa\n",
      "9 : aaaaaaaaa\n",
      "10 : aaaaaaaaaa\n",
      "11 : b\n",
      "12 : bb\n",
      "13 : bbb\n",
      "14 : bbbb\n",
      "15 : bbbbb\n",
      "16 : bbbbbb\n",
      "17 : bbbbbbb\n",
      "18 : bbbbbbbb\n",
      "19 : bbbbbbbbb\n",
      "20 : bbbbbbbbbb\n"
     ]
    }
   ],
   "source": [
    "claves_ordenadas=sorted(diccionario)\n",
    "for c in claves_ordenadas:\n",
    "    print(c,\":\",end=\" \")\n",
    "    print(diccionario[c])\n"
   ]
  },
  {
   "cell_type": "code",
   "execution_count": 61,
   "metadata": {},
   "outputs": [
    {
     "data": {
      "text/plain": [
       "['a',\n",
       " 'aa',\n",
       " 'aaa',\n",
       " 'aaaa',\n",
       " 'aaaaa',\n",
       " 'aaaaaa',\n",
       " 'aaaaaaa',\n",
       " 'aaaaaaaa',\n",
       " 'aaaaaaaaa',\n",
       " 'aaaaaaaaaa',\n",
       " 'b',\n",
       " 'bb',\n",
       " 'bbb',\n",
       " 'bbbb',\n",
       " 'bbbbb',\n",
       " 'bbbbbb',\n",
       " 'bbbbbbb',\n",
       " 'bbbbbbbb',\n",
       " 'bbbbbbbbb',\n",
       " 'bbbbbbbbbb']"
      ]
     },
     "execution_count": 61,
     "metadata": {},
     "output_type": "execute_result"
    }
   ],
   "source": [
    "sorted(diccionario.values())"
   ]
  },
  {
   "cell_type": "code",
   "execution_count": 62,
   "metadata": {},
   "outputs": [
    {
     "name": "stdout",
     "output_type": "stream",
     "text": [
      "['00080', '28002', '28040']\n"
     ]
    }
   ],
   "source": [
    "diccionario_ciudades={\"28040\":\"Madrid\",\"00080\":\"Barcelona\",\"28002\":\"Madrid\"}\n",
    "print(sorted(diccionario_ciudades))"
   ]
  },
  {
   "cell_type": "code",
   "execution_count": 63,
   "metadata": {},
   "outputs": [
    {
     "name": "stdout",
     "output_type": "stream",
     "text": [
      "['Barcelona', 'Madrid', 'Madrid']\n"
     ]
    }
   ],
   "source": [
    "print(sorted(diccionario_ciudades.values()))"
   ]
  },
  {
   "cell_type": "code",
   "execution_count": null,
   "metadata": {},
   "outputs": [],
   "source": [
    "sorted(diccionario_ciudades)"
   ]
  }
 ],
 "metadata": {
  "kernelspec": {
   "display_name": "Python 3",
   "language": "python",
   "name": "python3"
  },
  "language_info": {
   "codemirror_mode": {
    "name": "ipython",
    "version": 3
   },
   "file_extension": ".py",
   "mimetype": "text/x-python",
   "name": "python",
   "nbconvert_exporter": "python",
   "pygments_lexer": "ipython3",
   "version": "3.8.3"
  }
 },
 "nbformat": 4,
 "nbformat_minor": 4
}
